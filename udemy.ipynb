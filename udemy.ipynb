{
 "cells": [
  {
   "cell_type": "code",
   "execution_count": 1,
   "id": "2deb9118",
   "metadata": {},
   "outputs": [
    {
     "name": "stdout",
     "output_type": "stream",
     "text": [
      "here is current list\n",
      "[0, 1, 2]\n"
     ]
    }
   ],
   "source": [
    "game_list = [0, 1, 2]\n",
    "\n",
    "\n",
    "def display_game():\n",
    "    print(\"here is current list\")\n",
    "    print(game_list)\n",
    "\n",
    "\n",
    "display_game()\n",
    "\n",
    "\n",
    "def position_choice():\n",
    "\n",
    "    choice = \"wrong\"\n",
    "\n",
    "    while choice not in [\"0\", \"1\", \"2\"]:\n",
    "\n",
    "        choice = input(\"pick position (0,1,2)\")\n",
    "        if choice not in [\"0\", \"1\", \"2\"]:\n",
    "            print(\"invalid choice\")\n",
    "\n",
    "    return int(choice)\n",
    "\n",
    "\n",
    "position_choice()\n",
    "\n",
    "\n",
    "def replacement_choice(game_list, position):\n",
    "    user_placement = input(\"enter a string to replace position:\")\n",
    "    game_list[position] = user_placement\n",
    "    return game_list\n",
    "\n",
    "\n",
    "replacement_choice(game_list, 1)\n",
    "\n",
    "\n",
    "def gameon_choice():\n",
    "    choice = \"wrong\"\n",
    "\n",
    "    while choice not in [\"Y\", \"N\"]:\n",
    "        choice = input(\"do you want to continue? Y or N\")\n",
    "        if choice not in [\"Y\", \"N\"]:\n",
    "            print(\"invalid choice\")\n",
    "\n",
    "    if choice == \"Y\":\n",
    "        return True\n",
    "    else:\n",
    "        return False"
   ]
  },
  {
   "cell_type": "code",
   "execution_count": null,
   "id": "6ee068c1",
   "metadata": {},
   "outputs": [],
   "source": []
  }
 ],
 "metadata": {
  "kernelspec": {
   "display_name": ".venv",
   "language": "python",
   "name": "python3"
  },
  "language_info": {
   "codemirror_mode": {
    "name": "ipython",
    "version": 3
   },
   "file_extension": ".py",
   "mimetype": "text/x-python",
   "name": "python",
   "nbconvert_exporter": "python",
   "pygments_lexer": "ipython3",
   "version": "3.13.2"
  }
 },
 "nbformat": 4,
 "nbformat_minor": 5
}
